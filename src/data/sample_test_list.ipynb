{
 "cells": [
  {
   "cell_type": "code",
   "execution_count": 4,
   "metadata": {},
   "outputs": [],
   "source": [
    "import numpy as np\n",
    "\n",
    "categories = {}\n",
    "with open(\"test_and_validation_list.txt\", \"r\") as f:\n",
    "    lines = f.readlines()\n",
    "    for line in lines:\n",
    "        category = line.split(\"_\")[0]\n",
    "        if category in categories:\n",
    "            categories[category].append(line)\n",
    "        else:\n",
    "            categories[category] = []\n",
    "\n",
    "test_f = open(\"test_list.txt\", \"w\")\n",
    "validation_f = open(\"validation_list.txt\", \"w\")\n",
    "\n",
    "test_validation_rate = 0.4 # 0.4 means 40% of the data will be test, change this number if you want to have a different rate\n",
    "for key, category in categories.items():\n",
    "    for item in category:\n",
    "        if np.random.uniform() < test_validation_rate:\n",
    "            test_f.write(item)\n",
    "        else:\n",
    "            validation_f.write(item)\n",
    "\n",
    "test_f.close()\n",
    "validation_f.close()"
   ]
  }
 ],
 "metadata": {
  "kernelspec": {
   "display_name": "venv",
   "language": "python",
   "name": "python3"
  },
  "language_info": {
   "codemirror_mode": {
    "name": "ipython",
    "version": 3
   },
   "file_extension": ".py",
   "mimetype": "text/x-python",
   "name": "python",
   "nbconvert_exporter": "python",
   "pygments_lexer": "ipython3",
   "version": "3.11.1"
  },
  "orig_nbformat": 4,
  "vscode": {
   "interpreter": {
    "hash": "e43e81654ea3a88473d47fecebfe6279d73cf8f5eff9545e02957b6727d84224"
   }
  }
 },
 "nbformat": 4,
 "nbformat_minor": 2
}
