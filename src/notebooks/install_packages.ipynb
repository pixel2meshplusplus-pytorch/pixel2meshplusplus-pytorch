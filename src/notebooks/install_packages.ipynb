{
 "cells": [
  {
   "cell_type": "code",
   "execution_count": null,
   "metadata": {},
   "outputs": [],
   "source": [
    "!pip uninstall torch torchvision --yes\n",
    "!pip install torch==1.12.1 torchvision --extra-index-url https://download.pytorch.org/whl/cu102\n",
    "!pip install -r requirements.txt"
   ]
  },
  {
   "cell_type": "code",
   "execution_count": null,
   "metadata": {},
   "outputs": [],
   "source": [
    "%cd src/external/chamfer\n",
    "!pip install .\n",
    "!pip uninstall torch torchvision --yes\n",
    "!pip install torch==1.12.1 torchvision --extra-index-url https://download.pytorch.org/whl/cu113\n",
    "!python test.py\n",
    "%cd ../../.."
   ]
  }
 ],
 "metadata": {
  "kernelspec": {
   "display_name": "Python 3",
   "language": "python",
   "name": "python3"
  },
  "language_info": {
   "codemirror_mode": {
    "name": "ipython",
    "version": 3
   },
   "file_extension": ".py",
   "mimetype": "text/x-python",
   "name": "python",
   "nbconvert_exporter": "python",
   "pygments_lexer": "ipython3",
   "version": "3.8.8"
  },
  "vscode": {
   "interpreter": {
    "hash": "e43e81654ea3a88473d47fecebfe6279d73cf8f5eff9545e02957b6727d84224"
   }
  }
 },
 "nbformat": 4,
 "nbformat_minor": 2
}
