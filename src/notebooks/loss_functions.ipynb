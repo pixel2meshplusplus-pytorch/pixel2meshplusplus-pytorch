{
 "cells": [
  {
   "cell_type": "code",
   "execution_count": null,
   "id": "f5c5bbe0",
   "metadata": {},
   "outputs": [],
   "source": [
    "import torch"
   ]
  },
  {
   "cell_type": "code",
   "execution_count": null,
   "id": "7a2ebb78",
   "metadata": {},
   "outputs": [],
   "source": [
    "%load_ext autoreload\n",
    "%autoreload 2"
   ]
  },
  {
   "cell_type": "code",
   "execution_count": null,
   "id": "3d28ae03",
   "metadata": {},
   "outputs": [],
   "source": [
    "from src.utils.loss.losses import P2MLoss\n",
    "from src.utils.tools import construct_feed_dict\n",
    "from src.model.multi_view_p2m import MVP2M\n",
    "from src.model.perceptual_net import PerceptualNetwork\n",
    "from src.data.shapenet import ShapeNetRenderings\n",
    "import torch\n",
    "import torch.nn as nn\n",
    "import numpy as np\n",
    "import pickle"
   ]
  },
  {
   "cell_type": "code",
   "execution_count": null,
   "id": "6755fe5f",
   "metadata": {},
   "outputs": [],
   "source": [
    "images = torch.rand((3, 3, 224, 224))\n",
    "cameras = torch.rand((3,5))"
   ]
  },
  {
   "cell_type": "code",
   "execution_count": null,
   "id": "11d9c7db",
   "metadata": {},
   "outputs": [],
   "source": [
    "pkl = pickle.load(open('src/data/iccv_p2mpp.dat', 'rb'))\n",
    "feed_dict=construct_feed_dict(pkl)\n",
    "ellipsoid = feed_dict['ellipsoid_feature_X']\n",
    "lape_idx = feed_dict['lape_idx']\n",
    "edges = feed_dict['edges']\n",
    "faces = feed_dict['faces_triangle']"
   ]
  },
  {
   "cell_type": "code",
   "execution_count": null,
   "id": "8005363c",
   "metadata": {},
   "outputs": [],
   "source": [
    "net = PerceptualNetwork()\n",
    "percep_res = net(images)[\"semantic_feature\"]"
   ]
  },
  {
   "cell_type": "code",
   "execution_count": null,
   "id": "0644a25b",
   "metadata": {},
   "outputs": [],
   "source": [
    "model = MVP2M(feed_dict['supports'],feed_dict['pool_idx'], 2883, 192, 3)"
   ]
  },
  {
   "cell_type": "code",
   "execution_count": null,
   "id": "f7dd2ad2",
   "metadata": {},
   "outputs": [],
   "source": [
    "res = model(ellipsoid, percep_res, cameras)"
   ]
  },
  {
   "cell_type": "code",
   "execution_count": null,
   "id": "d40308a6",
   "metadata": {},
   "outputs": [],
   "source": [
    "points = torch.randint_like(res['pred_coord'][0], high=156, dtype=torch.long)\n",
    "normals = torch.randint_like(res['pred_coord'][0], high=156, dtype=torch.long)"
   ]
  },
  {
   "cell_type": "code",
   "execution_count": null,
   "id": "440d58ae",
   "metadata": {},
   "outputs": [],
   "source": [
    "batch = {\n",
    "    \"points\": points,\n",
    "    \"normals\": normals,\n",
    "    \"images\": images\n",
    "}"
   ]
  },
  {
   "cell_type": "code",
   "execution_count": null,
   "id": "c903cdd7",
   "metadata": {},
   "outputs": [],
   "source": [
    "loss = P2MLoss(lape_idx, edges, faces)"
   ]
  },
  {
   "cell_type": "code",
   "execution_count": null,
   "id": "f548ed07",
   "metadata": {
    "scrolled": false
   },
   "outputs": [],
   "source": [
    "loss(res, batch)"
   ]
  },
  {
   "cell_type": "code",
   "execution_count": null,
   "id": "47186c32",
   "metadata": {},
   "outputs": [],
   "source": [
    "lape_idx = feed_dict['lape_idx']\n",
    "edges = feed_dict['edges']\n",
    "faces = feed_dict['faces_triangle']\n",
    "\n",
    "lape_idx = [lape_idx[2], lape_idx[2]]\n",
    "edges = [edges[2], edges[2]]\n",
    "faces = [faces[2], faces[2]]"
   ]
  },
  {
   "cell_type": "code",
   "execution_count": null,
   "id": "19908b88",
   "metadata": {},
   "outputs": [],
   "source": [
    "from src.model.multi_view_deformation_network import MultiViewDeformationNetwork"
   ]
  },
  {
   "cell_type": "code",
   "execution_count": null,
   "id": "a17a5201",
   "metadata": {},
   "outputs": [],
   "source": [
    "mvdn = MultiViewDeformationNetwork(\n",
    "    stage2_feat_dim=339,\n",
    "    sample_coord=np.zeros((43,3)),\n",
    "    sample_adj=np.zeros((2,43,43)))\n",
    "input = torch.zeros((2466, 3))"
   ]
  },
  {
   "cell_type": "code",
   "execution_count": null,
   "id": "9422202b",
   "metadata": {},
   "outputs": [],
   "source": [
    "res['pred_coord'][2].squeeze().shape"
   ]
  },
  {
   "cell_type": "code",
   "execution_count": null,
   "id": "79139197",
   "metadata": {},
   "outputs": [],
   "source": [
    "cameras.shape"
   ]
  },
  {
   "cell_type": "code",
   "execution_count": null,
   "id": "696a1dc4",
   "metadata": {},
   "outputs": [],
   "source": [
    "img_feat[0].shape"
   ]
  },
  {
   "cell_type": "code",
   "execution_count": null,
   "id": "07be0c67",
   "metadata": {},
   "outputs": [],
   "source": [
    "for i in range(3):\n",
    "    img_feat[i] = img_feat[i].permute((0,2,3,1loss = P2MLoss(lape_idx, edges, faces)))"
   ]
  },
  {
   "cell_type": "code",
   "execution_count": null,
   "id": "0a2dd865",
   "metadata": {},
   "outputs": [],
   "source": [
    "# img_feat = net(images)[\"geometry_feature\"]\n",
    "# out = mvdn(res['pred_coord'][2].squeeze(), cameras, img_feat)"
   ]
  },
  {
   "cell_type": "code",
   "execution_count": null,
   "id": "70ebaaaf",
   "metadata": {},
   "outputs": [],
   "source": [
    "e=MultiViewDeformationNetwork(339,feed_dict['sample_coord'],feed_dict['sample_adj'])\n",
    "inputs=[torch.randn(2466,3),torch.randn(3,5),[torch.randn(3,224,224,16), torch.randn(3, 112, 112, 32) ,torch.randn(3, 56, 56, 64)]]\n",
    "outputs_5=e(*inputs)"
   ]
  },
  {
   "cell_type": "code",
   "execution_count": null,
   "id": "05033469",
   "metadata": {},
   "outputs": [],
   "source": [
    "outputs_5"
   ]
  },
  {
   "cell_type": "code",
   "execution_count": null,
   "id": "984bf4b2",
   "metadata": {},
   "outputs": [],
   "source": [
    "loss = P2MLoss(lape_idx, edges, faces)"
   ]
  },
  {
   "cell_type": "code",
   "execution_count": null,
   "id": "bd7e4662",
   "metadata": {},
   "outputs": [],
   "source": [
    "loss(outputs_5, batch)"
   ]
  }
 ],
 "metadata": {
  "kernelspec": {
   "display_name": "Python 3 (ipykernel)",
   "language": "python",
   "name": "python3"
  },
  "language_info": {
   "codemirror_mode": {
    "name": "ipython",
    "version": 3
   },
   "file_extension": ".py",
   "mimetype": "text/x-python",
   "name": "python",
   "nbconvert_exporter": "python",
   "pygments_lexer": "ipython3",
   "version": "3.10.8"
  }
 },
 "nbformat": 4,
 "nbformat_minor": 5
}
