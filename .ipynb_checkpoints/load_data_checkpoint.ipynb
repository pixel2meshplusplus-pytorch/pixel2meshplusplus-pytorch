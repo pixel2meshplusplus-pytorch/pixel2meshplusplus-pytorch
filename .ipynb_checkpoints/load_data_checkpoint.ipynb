{
 "cells": [
  {
   "cell_type": "code",
   "execution_count": null,
   "metadata": {},
   "outputs": [],
   "source": [
    "# This cell is for images\n",
    "%mkdir shapenet\n",
    "%cd shapenet\n",
    "%mkdir images\n",
    "%mkdir ground_truth\n",
    "%cd images\n",
    "!wget http://cvgl.stanford.edu/data2/ShapeNetRendering.tgz\n",
    "!tar xzvf ShapeNetRendering.tgz\n",
    "!rm -rf ShapeNetRendering.tgz"
   ]
  },
  {
   "cell_type": "code",
   "execution_count": null,
   "metadata": {},
   "outputs": [],
   "source": [
    "# Download ground truth using the script\n",
    "!sh wget_ground_truth.sh"
   ]
  },
  {
   "cell_type": "code",
   "execution_count": null,
   "metadata": {},
   "outputs": [],
   "source": [
    "# Unzip the file: https://py7zr.readthedocs.io/en/latest/user_guide.html#extraction-from-multi-volume-archive\n",
    "import py7zr\n",
    "\n",
    "filenames = ['p2mppdata.7z.001', 'p2mppdata.7z.002', 'p2mppdata.7z.003']\n",
    "with open('result.7z', 'ab') as outfile:  # append in binary mode\n",
    "    for fname in filenames:\n",
    "        with open(fname, 'rb') as infile:        # open in binary mode also\n",
    "            outfile.write(infile.read())\n",
    "with py7zr.SevenZipFile(\"result.7z\", \"r\") as archive:\n",
    "    archive.extractall(path=\"/shapenet/ground_truth\")\n",
    "os.unlink(\"result.7z\")\n",
    "\n",
    "\n",
    "!rm -rf p2mppdata.7z.001 p2mppdata.7z.002 p2mppdata.7z.003"
   ]
  },
  {
   "cell_type": "code",
   "execution_count": null,
   "metadata": {},
   "outputs": [],
   "source": [
    "from src.data.shapenet import ShapeNetRenderings\n",
    "\n",
    "data = ShapeNetRenderings()\n",
    "print(data[0].keys())\n"
   ]
  }
 ],
 "metadata": {
  "kernelspec": {
   "display_name": "Python 3",
   "language": "python",
   "name": "python3"
  },
  "language_info": {
   "codemirror_mode": {
    "name": "ipython",
    "version": 3
   },
   "file_extension": ".py",
   "mimetype": "text/x-python",
   "name": "python",
   "nbconvert_exporter": "python",
   "pygments_lexer": "ipython3",
   "version": "3.11.1 (main, Jan  6 2023, 00:00:00) [GCC 12.2.1 20221121 (Red Hat 12.2.1-4)]"
  },
  "vscode": {
   "interpreter": {
    "hash": "ead1b95f633dc9c51826328e1846203f51a198c6fb5f2884a80417ba131d4e82"
   }
  }
 },
 "nbformat": 4,
 "nbformat_minor": 2
}
