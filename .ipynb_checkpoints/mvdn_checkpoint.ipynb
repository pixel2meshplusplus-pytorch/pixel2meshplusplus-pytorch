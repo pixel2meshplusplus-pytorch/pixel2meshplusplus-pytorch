{
 "cells": [
  {
   "cell_type": "code",
   "execution_count": null,
   "metadata": {},
   "outputs": [],
   "source": [
    "!pip install -r requirements.txt"
   ]
  },
  {
   "cell_type": "code",
   "execution_count": 95,
   "metadata": {},
   "outputs": [
    {
     "name": "stdout",
     "output_type": "stream",
     "text": [
      "torch.Size([2466, 3])\n"
     ]
    }
   ],
   "source": [
    "import torch\n",
    "\n",
    "from src.model.multi_view_deformation_network import MultiViewDeformationNetwork\n",
    "\n",
    "mvdn = MultiViewDeformationNetwork(\n",
    "    stage2_feat_dim=339,\n",
    "    sample_coord=torch.zeros(43,3),\n",
    "    sample_adj=torch.zeros((2,43,43)))\n",
    "\n",
    "input = torch.zeros((2466, 3))\n",
    "camera = torch.tensor([\n",
    "    [1,2,3,4,5],\n",
    "    [1,10,34,41,5],\n",
    "    [-4,20,3,4,15],\n",
    "])\n",
    "\n",
    "img_feat = [torch.zeros([3, 224, 224, 16]), torch.zeros(3, 112, 112, 32), torch.zeros(3, 56, 56, 64)]\n",
    "\n",
    "out = mvdn(input, camera, img_feat)\n",
    "\n",
    "print(out.shape)\n",
    "\n",
    "\n"
   ]
  }
 ],
 "metadata": {
  "kernelspec": {
   "display_name": "Python 3 (ipykernel)",
   "language": "python",
   "name": "python3"
  },
  "language_info": {
   "codemirror_mode": {
    "name": "ipython",
    "version": 3
   },
   "file_extension": ".py",
   "mimetype": "text/x-python",
   "name": "python",
   "nbconvert_exporter": "python",
   "pygments_lexer": "ipython3",
   "version": "3.10.8"
  },
  "vscode": {
   "interpreter": {
    "hash": "916dbcbb3f70747c44a77c7bcd40155683ae19c65e1c03b4aa3499c5328201f1"
   }
  }
 },
 "nbformat": 4,
 "nbformat_minor": 2
}
