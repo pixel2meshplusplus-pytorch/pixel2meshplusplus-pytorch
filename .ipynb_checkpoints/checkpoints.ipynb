{
 "cells": [
  {
   "cell_type": "code",
   "execution_count": null,
   "id": "3e12e043",
   "metadata": {},
   "outputs": [],
   "source": [
    "%load_ext autoreload\n",
    "%autoreload 2"
   ]
  },
  {
   "cell_type": "code",
   "execution_count": null,
   "id": "6b96e5c4",
   "metadata": {
    "scrolled": true
   },
   "outputs": [],
   "source": [
    "from src.training.train_multi_view_pixel2mesh import main\n",
    "\n",
    "config = {\n",
    "    'experiment_name': 'mvp2m_overfitting',\n",
    "    'device': 'cuda:0',  # change this to cpu if you do not have a GPU\n",
    "    'is_overfit': True,\n",
    "    'resume_ckpt': 'src/runs/mvp2m_overfitting/checkpoint.ckpt',\n",
    "    'learning_rate': 1e-5, # from Pixel2Mesh++ paper\n",
    "    'weight_decay': 1e-5, # from Pixel2Mesh++ paper\n",
    "    'max_epochs': 250,\n",
    "    'print_every_n': 10,\n",
    "    'validate_every_n': 25,\n",
    "    'resume_ckpt': None,\n",
    "    'send_telegram_message': True,\n",
    "}\n",
    "\n",
    "main(config)"
   ]
  },
  {
   "cell_type": "code",
   "execution_count": null,
   "id": "3607fc2c",
   "metadata": {},
   "outputs": [],
   "source": [
    "# To run this file:\n",
    "# 1. Go to main directory: pixel2meshplusplus-pytorch\n",
    "# 2. Run: python inference_overfit_mvp2m.py\n",
    "\n",
    "from src.inference.infer_mvp2m import InferenceMVP2M\n",
    "\n",
    "def main():\n",
    "    inference = InferenceMVP2M(\n",
    "        dataset_type='overfit',\n",
    "        path_to_perceptual_network_ckpt='src/runs/mvp2m_overfitting/mvp2m_perceptual_network_best.ckpt',\n",
    "        path_to_mvp2m_ckpt='src/runs/mvp2m_overfitting/mvp2m_best.ckpt'\n",
    "    )\n",
    "\n",
    "    inference.infer_single()\n",
    "\n",
    "if __name__ == '__main__':\n",
    "    main()\n"
   ]
  }
 ],
 "metadata": {
  "kernelspec": {
   "display_name": "Python 3",
   "language": "python",
   "name": "python3"
  },
  "language_info": {
   "codemirror_mode": {
    "name": "ipython",
    "version": 3
   },
   "file_extension": ".py",
   "mimetype": "text/x-python",
   "name": "python",
   "nbconvert_exporter": "python",
   "pygments_lexer": "ipython3",
   "version": "3.11.1 (main, Jan  6 2023, 00:00:00) [GCC 12.2.1 20221121 (Red Hat 12.2.1-4)]"
  },
  "vscode": {
   "interpreter": {
    "hash": "ead1b95f633dc9c51826328e1846203f51a198c6fb5f2884a80417ba131d4e82"
   }
  }
 },
 "nbformat": 4,
 "nbformat_minor": 5
}
