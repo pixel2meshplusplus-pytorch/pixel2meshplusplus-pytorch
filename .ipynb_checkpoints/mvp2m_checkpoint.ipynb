{
 "cells": [
  {
   "cell_type": "code",
   "execution_count": null,
   "metadata": {},
   "outputs": [],
   "source": [
    "%load_ext autoreload\n",
    "%autoreload 2"
   ]
  },
  {
   "cell_type": "code",
   "execution_count": null,
   "metadata": {},
   "outputs": [],
   "source": [
    "import torch\n",
    "import torch.nn as nn\n",
    "images = torch.zeros((3, 3, 224, 224))"
   ]
  },
  {
   "cell_type": "code",
   "execution_count": null,
   "metadata": {},
   "outputs": [],
   "source": [
    "from src.model.perceptual_net import PerceptualNetwork\n",
    "\n",
    "net = PerceptualNetwork()\n",
    "percep_res = net(images)[\"semantic_feature\"]\n",
    "print(percep_res[0].shape)\n",
    "print(percep_res[1].shape)\n",
    "print(percep_res[2].shape)\n",
    "print(percep_res[3].shape)"
   ]
  },
  {
   "cell_type": "code",
   "execution_count": null,
   "metadata": {},
   "outputs": [],
   "source": [
    "import numpy as np\n",
    "from src.model.multi_view_p2m import MVP2M\n",
    "\n",
    "supports = [\n",
    "    [torch.zeros((156, 156)).to_sparse(), torch.zeros((1080, 1080)).to_sparse()],\n",
    "    [torch.zeros((618, 618)).to_sparse(), torch.zeros((4314, 4314)).to_sparse()],\n",
    "    [torch.zeros((2466, 2466)).to_sparse(), torch.zeros((17250, 17250)).to_sparse()],\n",
    "]\n",
    "\n",
    "pool_idxs = [torch.zeros((462, 2)), torch.zeros((1848, 2))]\n",
    "feat_dim = 2883\n",
    "hidden_dim = 192\n",
    "coord_dim = 3\n",
    "mvn = MVP2M(supports, pool_idxs, feat_dim, hidden_dim, coord_dim)\n",
    "\n",
    "\n",
    "cameras = torch.ones((3, 5))\n",
    "features = torch.zeros((156, 3))\n",
    "\n",
    "res = mvn(inputs=features, img_feat=percep_res, cameras=cameras)"
   ]
  }
 ],
 "metadata": {
  "kernelspec": {
   "display_name": "Python 3 (ipykernel)",
   "language": "python",
   "name": "python3"
  },
  "language_info": {
   "codemirror_mode": {
    "name": "ipython",
    "version": 3
   },
   "file_extension": ".py",
   "mimetype": "text/x-python",
   "name": "python",
   "nbconvert_exporter": "python",
   "pygments_lexer": "ipython3",
   "version": "3.10.8"
  },
  "vscode": {
   "interpreter": {
    "hash": "916dbcbb3f70747c44a77c7bcd40155683ae19c65e1c03b4aa3499c5328201f1"
   }
  }
 },
 "nbformat": 4,
 "nbformat_minor": 2
}
